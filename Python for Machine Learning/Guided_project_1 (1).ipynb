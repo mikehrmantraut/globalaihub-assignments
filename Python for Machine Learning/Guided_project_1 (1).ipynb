{
  "cells": [
    {
      "cell_type": "markdown",
      "metadata": {
        "id": "VMuUK0ap_bRD"
      },
      "source": [
        "# Chapter 1\n",
        "### Your first day at your new job 👩‍💻👨‍💻\n",
        "\n",
        "You are starting a new job as a junior software developer in an IT company. \n",
        "\n",
        "The company’s HR department asks you to fill out a form, so you start by assigning your personal information to corresponding variables.\n",
        "\n",
        "📌 Create a variable for your name, surname, age, ID number, place of residence, to specify if you have active health insurance or not, and lastly one for specifying your nationality.\n"
      ]
    },
    {
      "cell_type": "code",
      "execution_count": 37,
      "metadata": {
        "id": "OPLhhc2Sp-D0"
      },
      "outputs": [],
      "source": [
        "#Please assign your personal information to variables\n",
        "myName = \"Ahmet\"\n",
        "mySurname = \"Sakin\"\n",
        "myAge = 38\n",
        "idNumber = 18594074500\n",
        "placeOfResidence = \"Samsun\"\n",
        "healthInsurance = False\n",
        "myNationality = \"Turkish\"\n"
      ]
    },
    {
      "cell_type": "markdown",
      "metadata": {
        "id": "3zaUlxwcp-D0"
      },
      "source": [
        "###Meet And Greet\n",
        "Introduce yourself to your new co-workers.\n",
        "\n",
        "📌 Use a f-string to print \"My name is Joey Tribbiani I am 25 years old and I live in London”."
      ]
    },
    {
      "cell_type": "code",
      "execution_count": 38,
      "metadata": {
        "colab": {
          "base_uri": "https://localhost:8080/"
        },
        "id": "XNuh5_2WXwvg",
        "outputId": "c5d06057-7694-436f-a38b-6f304ddc3dce"
      },
      "outputs": [
        {
          "output_type": "stream",
          "name": "stdout",
          "text": [
            "My name is Ahmet Sakin I am 38 years old and I live in Samsun\n"
          ]
        }
      ],
      "source": [
        "#Write a sentence using the print function to describe yourself using the variables above in the correct data type\n",
        "print(f\"My name is {myName} {mySurname} I am {myAge} years old and I live in {placeOfResidence}\")\n"
      ]
    },
    {
      "cell_type": "markdown",
      "metadata": {
        "id": "EEL9To4ip-D1"
      },
      "source": [
        "### Equipment starter pack\n",
        "The HR department asks you to list the items you would need to improve your work efficiency\n",
        "\n",
        "Mandatory:\n",
        "* Laptop\n",
        "* Headset\n",
        "* Second monitor\n",
        "\n",
        "Optional:\n",
        "* Mousepad\n",
        "* USB drive\n",
        "* External drive\n",
        "\n",
        "\n",
        "📌 Create a shopping list that contains items above and print it."
      ]
    },
    {
      "cell_type": "code",
      "execution_count": 39,
      "metadata": {
        "id": "fPFBLDyqp-D2"
      },
      "outputs": [],
      "source": [
        "#Create the item_list\n",
        "item_list = [\"Laptop\", \"Headset\", \"Second monitor\", \"Mousepad\", \"USB drive\", \"External drive\"]"
      ]
    },
    {
      "cell_type": "code",
      "execution_count": 40,
      "metadata": {
        "colab": {
          "base_uri": "https://localhost:8080/"
        },
        "id": "358R_CN5U2-J",
        "outputId": "64350c2e-7352-4396-c666-4e6d4b608200"
      },
      "outputs": [
        {
          "output_type": "stream",
          "name": "stdout",
          "text": [
            "['Laptop', 'Headset', 'Second monitor', 'Mousepad', 'USB drive', 'External drive']\n"
          ]
        }
      ],
      "source": [
        "#Print the list\n",
        "print(item_list)"
      ]
    },
    {
      "cell_type": "markdown",
      "metadata": {
        "id": "5keEWjCyp-D2"
      },
      "source": [
        "####What is mandatory and what is optional?\n",
        "\n",
        "📌 Use list slicing to devide your list in two list: 'mandatory_item_list' and 'optional_item_list' and print both to the screen."
      ]
    },
    {
      "cell_type": "code",
      "execution_count": 41,
      "metadata": {
        "id": "E6ewuDYZp-D2"
      },
      "outputs": [],
      "source": [
        "#Use list slicing to divide the mandatory items\n",
        "mandatory_item_list = item_list[:3]"
      ]
    },
    {
      "cell_type": "code",
      "execution_count": 42,
      "metadata": {
        "id": "hOmkym01RGEL"
      },
      "outputs": [],
      "source": [
        "#Use list slicing to divide the optional items\n",
        "optional_item_list = item_list[3:]"
      ]
    },
    {
      "cell_type": "code",
      "execution_count": 43,
      "metadata": {
        "colab": {
          "base_uri": "https://localhost:8080/"
        },
        "id": "xsVv1_msVE1_",
        "outputId": "3ffe5212-c908-44da-dfbd-fde360e6e3f3"
      },
      "outputs": [
        {
          "output_type": "stream",
          "name": "stdout",
          "text": [
            "['Laptop', 'Headset', 'Second monitor']\n",
            "['Mousepad', 'USB drive', 'External drive']\n"
          ]
        }
      ],
      "source": [
        "#Print both to the screen\n",
        "print(mandatory_item_list)\n",
        "print(optional_item_list)"
      ]
    },
    {
      "cell_type": "markdown",
      "metadata": {
        "id": "s_M1Q93wp-D3"
      },
      "source": [
        "#### Go Shopping\n",
        "Next, you will have to go and purchase these items, the finance department confirmed a budget of $5000.\n",
        "\n",
        "📌 Assign 5000 to a variable called limit, so you know how much you can spend."
      ]
    },
    {
      "cell_type": "code",
      "execution_count": 44,
      "metadata": {
        "id": "nCmpm0oqp-D3"
      },
      "outputs": [],
      "source": [
        "#Assign the spending limit value to a variable called limit\n",
        "limit = 5000"
      ]
    },
    {
      "cell_type": "markdown",
      "metadata": {
        "id": "VwbEEymVp-D3"
      },
      "source": [
        "####Price dictionary\n",
        "\n",
        "Before you start shopping yo need to find the best items that you can buy within the company budget. \n",
        "\n",
        "📌 Prepare a dictionary called “price_sheet” that includes the items as keys and the prices as values.  \n",
        " "
      ]
    },
    {
      "cell_type": "code",
      "execution_count": 45,
      "metadata": {
        "id": "9o9n9Ag-p-D3"
      },
      "outputs": [],
      "source": [
        "#Create a dictionary that contains each item and its price\n",
        "price_sheet = {\n",
        "    \"Laptop\": 1500,\n",
        "    \"Headset\": 100,\n",
        "    \"Second monitor\": 200,\n",
        "    \"Mousepad\": 50,\n",
        "    \"USB drive\": 70,\n",
        "    \"External drive\": 250\n",
        "}\n"
      ]
    },
    {
      "cell_type": "markdown",
      "metadata": {
        "id": "rUYivBVEBhCv"
      },
      "source": [
        "####Shopping functions\n",
        "\n",
        "You need to define three functions that will help you during shopping.\n",
        "\n",
        "📌 First, create an empty list that  will be your shopping cart. Here you will add the items you need to purchase.\n",
        "\n",
        "1. Define a function for both adding items to the cart and removing them from the item_list.\n",
        "\n",
        "📌 The \"add_to_cart\" function should take the item name and the quantity to buy as an argument. \n",
        "\n",
        "2. Define a function that will create an invoice. \n",
        "\n",
        "📌 The \"create_invoice\" function should calculate the taxes of each item (18%) and add it to the total amount.\n",
        "\n",
        "3. Define a function for the checkout. \n",
        "\n",
        "📌 The \"checkout\" function should subtract the total amount from the budget and print a statement to inform if the payment was successful. "
      ]
    },
    {
      "cell_type": "code",
      "execution_count": 46,
      "metadata": {
        "id": "dBNZ2ZdkGHUe"
      },
      "outputs": [],
      "source": [
        "#Initialize the cart list\n",
        "shoppingCart = []"
      ]
    },
    {
      "cell_type": "code",
      "execution_count": 47,
      "metadata": {
        "id": "HH26hHHFGKPJ"
      },
      "outputs": [],
      "source": [
        "#Define the \"add_to_cart\" function\n",
        "def add_to_cart(item, quantity):\n",
        "  shoppingCart.append((item, quantity))\n",
        "  item_list.remove(item)"
      ]
    },
    {
      "cell_type": "code",
      "execution_count": 48,
      "metadata": {
        "colab": {
          "base_uri": "https://localhost:8080/"
        },
        "id": "TUmNr4xVGQdm",
        "outputId": "31df186d-c8bc-4cf5-acb4-605dbbb8c626"
      },
      "outputs": [
        {
          "output_type": "stream",
          "name": "stdout",
          "text": [
            "After the taxes are applied the total amount is:  \t 0\n"
          ]
        },
        {
          "output_type": "execute_result",
          "data": {
            "text/plain": [
              "0"
            ]
          },
          "metadata": {},
          "execution_count": 48
        }
      ],
      "source": [
        "#Define the \"create_invoice\" function\n",
        "def create_invoice():\n",
        "  total_amount_inc_tax = 0\n",
        "  for item, quantity in shoppingCart:\n",
        "    price = price_sheet[item]\n",
        "    tax = 0.18 * price\n",
        "    total = (tax + price) * quantity\n",
        "    total_amount_inc_tax += total\n",
        "    print('Item:', item, '\\t','Price:', price,'\\t', 'Quantity', quantity, '\\t', 'Tax', tax, '\\t', 'Total', total, '\\n' )\n",
        "  print(\"After the taxes are applied the total amount is: \",'\\t', total_amount_inc_tax)\n",
        "  return total_amount_inc_tax\n",
        "\n",
        "create_invoice()"
      ]
    },
    {
      "cell_type": "code",
      "execution_count": 49,
      "metadata": {
        "colab": {
          "base_uri": "https://localhost:8080/"
        },
        "id": "iUlKiXgMGdIk",
        "outputId": "7479d538-3972-4197-b7b3-0f9aec9b63b0"
      },
      "outputs": [
        {
          "output_type": "stream",
          "name": "stdout",
          "text": [
            "After the taxes are applied the total amount is:  \t 0\n",
            "The total amount (incl. taxes) you've paid is 0. You have 5000 dollars left. \n"
          ]
        }
      ],
      "source": [
        "#Define the \"checkout\" function\n",
        "def checkout():\n",
        "  global limit\n",
        "  total_amount = create_invoice()\n",
        "  if limit == 0:\n",
        "    print(\"You don't have any budget\")\n",
        "  elif total_amount > limit:\n",
        "    print(\"The amount you have to pay is above the spending limit. You have to drop some items.\")\n",
        "  else:\n",
        "    limit -= total_amount\n",
        "    print(f\"The total amount (incl. taxes) you've paid is {total_amount}. You have {limit} dollars left. \")\n",
        "\n",
        "checkout()"
      ]
    },
    {
      "cell_type": "markdown",
      "metadata": {
        "id": "2IFUlu0yB0In"
      },
      "source": [
        "Let's shop!"
      ]
    },
    {
      "cell_type": "code",
      "execution_count": 50,
      "metadata": {
        "colab": {
          "base_uri": "https://localhost:8080/"
        },
        "id": "FDO7CRJTWPg7",
        "outputId": "247617c2-cf23-438b-a0af-4b0bd3f51dd1"
      },
      "outputs": [
        {
          "output_type": "stream",
          "name": "stdout",
          "text": [
            "Item: Laptop \t Price: 1500 \t Quantity 1 \t Tax 270.0 \t Total 1770.0 \n",
            "\n",
            "Item: Headset \t Price: 100 \t Quantity 8 \t Tax 18.0 \t Total 944.0 \n",
            "\n",
            "Item: Second monitor \t Price: 200 \t Quantity 1 \t Tax 36.0 \t Total 236.0 \n",
            "\n",
            "Item: Mousepad \t Price: 50 \t Quantity 1 \t Tax 9.0 \t Total 59.0 \n",
            "\n",
            "Item: USB drive \t Price: 70 \t Quantity 2 \t Tax 12.6 \t Total 165.2 \n",
            "\n",
            "Item: External drive \t Price: 250 \t Quantity 4 \t Tax 45.0 \t Total 1180.0 \n",
            "\n",
            "After the taxes are applied the total amount is:  \t 4354.2\n",
            "The total amount (incl. taxes) you've paid is 4354.2. You have 645.8000000000002 dollars left. \n"
          ]
        }
      ],
      "source": [
        "#Call the \"add_to_cart\" function for each item\n",
        " \n",
        "#Add first item to cart\n",
        "add_to_cart(\"Laptop\", 1)\n",
        " \n",
        "#Add second item to cart\n",
        "add_to_cart(\"Headset\", 8)\n",
        " \n",
        "#Add third item to cart\n",
        "add_to_cart(\"Second monitor\", 1)\n",
        " \n",
        "#Add fourth item to cart\n",
        "add_to_cart(\"Mousepad\", 1)\n",
        " \n",
        "#Add fifth item to cart\n",
        "add_to_cart(\"USB drive\", 2)\n",
        " \n",
        "#Add last item to cart\n",
        "add_to_cart(\"External drive\", 4)\n",
        " \n",
        "#Call the create \"checkout\" function to pay for all your items \n",
        "checkout()"
      ]
    },
    {
      "cell_type": "markdown",
      "metadata": {
        "id": "ZL-r2x_xKixg"
      },
      "source": [
        "###Game Night\n",
        "\n",
        "You are back at the office and the HR department organizes a welcome party for new employees. \n",
        "\n",
        "You decide to create a Rock-Paper-Scissor game. \n",
        "\n",
        "📌 Create a Rock-Paper-Scissor game in which the user plays against the computer. The player will choose one of the actions, and the computer will choose its action randomly.\n"
      ]
    },
    {
      "cell_type": "code",
      "execution_count": 58,
      "metadata": {
        "id": "qzD5pxBTgcFb"
      },
      "outputs": [],
      "source": [
        "#Import the random library\n",
        "import random"
      ]
    },
    {
      "cell_type": "code",
      "execution_count": 59,
      "metadata": {
        "id": "oJv-ihLAgcRo"
      },
      "outputs": [],
      "source": [
        "#create a list containing the three actions of the game.\n",
        "actions = ['rock', 'paper', 'scissor']"
      ]
    },
    {
      "cell_type": "code",
      "execution_count": 60,
      "metadata": {
        "id": "DNUa_9afWqMd",
        "colab": {
          "base_uri": "https://localhost:8080/"
        },
        "outputId": "aff97d24-2b9e-40f3-e8c2-21efeff0d5e2"
      },
      "outputs": [
        {
          "output_type": "stream",
          "name": "stdout",
          "text": [
            "How many rounds do you want to play? Please enter a number here: 5\n",
            "Round number: 1\n",
            "Please choose your action:rock\n",
            "Computer's choice:  scissor\n",
            "Player's choice:  rock\n",
            "Winner is Player!\n",
            "Round number: 2\n",
            "Please choose your action:scissor\n",
            "Computer's choice:  scissor\n",
            "Player's choice:  scissor\n",
            "Tie! Both players chose the same action.\n",
            "Round number: 3\n",
            "Please choose your action:paper\n",
            "Computer's choice:  paper\n",
            "Player's choice:  paper\n",
            "Tie! Both players chose the same action.\n",
            "Round number: 4\n",
            "Please choose your action:rock\n",
            "Computer's choice:  rock\n",
            "Player's choice:  rock\n",
            "Tie! Both players chose the same action.\n",
            "Round number: 5\n",
            "Please choose your action:rock\n",
            "Computer's choice:  scissor\n",
            "Player's choice:  rock\n",
            "Winner is Player!\n",
            "Winner is Player! 0 : 2\n"
          ]
        }
      ],
      "source": [
        "#Set the scores of players to 0\n",
        "computer_score = 0\n",
        "player_score = 0\n",
        "\n",
        "#Ask the user how many rounds they want to play\n",
        "total_round = input('How many rounds do you want to play? Please enter a number here: ')\n",
        "\n",
        "#Add a round_counter that is 0 at the beginning\n",
        "round_counter = 0\n",
        "\n",
        "#Write a while loop and put the game inside\n",
        "while True:\n",
        "\n",
        "  #Increase round_counter by and print it\n",
        "  round_counter += 1\n",
        "  print(\"Round number:\", round_counter)\n",
        "\n",
        "  #Select a random action for computer\n",
        "  computer_choice = random.choice(actions)\n",
        "\n",
        "  #Ask player to choose an action\n",
        "  player_choice = input('Please choose your action:')\n",
        "\n",
        "  #Print the players choices\n",
        "  print(\"Computer's choice: \", computer_choice)\n",
        "  print(\"Player's choice: \", player_choice)\n",
        "\n",
        "\n",
        "  #tie condition\n",
        "  if computer_choice == player_choice:\n",
        "    print(\"Tie! Both players chose the same action.\")\n",
        "\n",
        "  #Remaining conditions\n",
        "  elif computer_choice == 'paper':\n",
        "    if player_choice == 'rock':\n",
        "      print(\"Winner is computer!\")\n",
        "      computer_score += 1\n",
        "    else:\n",
        "      print(\"Winner is Player!\")\n",
        "      player_score += 1\n",
        "  elif computer_choice == 'rock':\n",
        "    if player_choice == 'paper':\n",
        "      print(\"Winner is Player!\")\n",
        "      player_score += 1\n",
        "    else:\n",
        "      print(\"Winner is computer!\")\n",
        "      computer_score += 1\n",
        "  elif computer_choice == 'scissor':\n",
        "    if player_choice == 'paper':\n",
        "      print(\"Winner is computer!\")\n",
        "      computer_score += 1\n",
        "    else:\n",
        "      print(\"Winner is Player!\")\n",
        "      player_score += 1\n",
        "\n",
        "  #Stop the while loop if the round_counter equals the number of total rounds\n",
        "  if round_counter == int(total_round):\n",
        "    break\n",
        "\n",
        "\n",
        "#Print the outcome of the game by using conditional statements\n",
        "if computer_score == player_score:\n",
        "  print(\"There is no winner. Tie!\", computer_score,\":\", player_score)\n",
        "elif computer_score > player_score:\n",
        "  print(\"Winner is computer!\", computer_score,\":\",player_score)\n",
        "elif computer_score < player_score:\n",
        "  print(\"Winner is Player!\", computer_score,\":\",player_score)"
      ]
    },
    {
      "cell_type": "markdown",
      "metadata": {
        "id": "jdrYN0Xgp-D6"
      },
      "source": [
        "# Your first task \n",
        "\n",
        "Rachel asks you to write a program to track the name and revenue each employee brings.  \n",
        "\n",
        "* Create the \"salesperson_revenue\" dictionary to see the employee name as a key and the revenue as a value.\n",
        "\n",
        "  📌 Every employee starts with 0 revenue.\n",
        "* Define the \"enter_revenue\" function. \n",
        "\n",
        "  📌 The function takes the name and revenue as an argument and updates the salesperson_revenue dictionary.\n"
      ]
    },
    {
      "cell_type": "code",
      "execution_count": 62,
      "metadata": {
        "id": "3vzRo7hyMRv2"
      },
      "outputs": [],
      "source": [
        "#Create salesperson_revenue dictionary\n",
        "salesperson_revenue = {\n",
        "    \"Ben\": 0,\n",
        "    \"Omer\": 0,\n",
        "    \"Karen\": 0,\n",
        "    \"Celine\": 0,\n",
        "    \"Sue\": 0,\n",
        "    \"Bora\": 0,\n",
        "    \"Rose\": 0,\n",
        "    \"Ellen\": 0,\n",
        "}\n"
      ]
    },
    {
      "cell_type": "code",
      "execution_count": 63,
      "metadata": {
        "id": "m-8IozBwMRzM"
      },
      "outputs": [],
      "source": [
        "#Define enter_revenue function\n",
        "def enter_revenue(name, revenue):\n",
        "  global salesperson_revenue\n",
        "  salesperson_revenue[name] += revenue\n"
      ]
    },
    {
      "cell_type": "markdown",
      "metadata": {
        "id": "UnTGSoNTi58u"
      },
      "source": [
        "####Try out the functions\n",
        "* In a while loop ask the user to give the name of the employee and for the revenue \n",
        "\n",
        "  📌 If the user enters “quit” the loop should break.\n",
        "\n",
        "After that, print out the salesperson_revenue dictionary.\n"
      ]
    },
    {
      "cell_type": "code",
      "execution_count": 64,
      "metadata": {
        "id": "2E549VvFXNi6",
        "colab": {
          "base_uri": "https://localhost:8080/"
        },
        "outputId": "1407c769-9d14-4753-f5da-2c0df35522ab"
      },
      "outputs": [
        {
          "name": "stdout",
          "output_type": "stream",
          "text": [
            "Employee name: Omer\n",
            "Enter revenue: 500\n",
            "Omer's revenue is 500\n",
            "Employee name: Ben\n",
            "Enter revenue: 15000\n",
            "Ben's revenue is 15000\n",
            "Employee name: quit\n"
          ]
        }
      ],
      "source": [
        "1#Asking user employee name as input\n",
        "while True:\n",
        "  name = input(\"Employee name: \")\n",
        "  if name == 'quit':\n",
        "    break\n",
        "  revenue = int(input(\"Enter revenue: \"))\n",
        "  enter_revenue(name, revenue)\n",
        "  print(f\"{name}'s revenue is {salesperson_revenue[name]}\")"
      ]
    },
    {
      "cell_type": "code",
      "execution_count": 65,
      "metadata": {
        "id": "OAvl9rgOXPe6",
        "colab": {
          "base_uri": "https://localhost:8080/"
        },
        "outputId": "14d9eb87-80a7-49f4-9b9f-dc006b4aede2"
      },
      "outputs": [
        {
          "output_type": "stream",
          "name": "stdout",
          "text": [
            "{'Ben': 15000, 'Omer': 500, 'Karen': 0, 'Celine': 0, 'Sue': 0, 'Bora': 0, 'Rose': 0, 'Ellen': 0}\n"
          ]
        }
      ],
      "source": [
        "#Print the salesperson_revenue dictionary\n",
        "print(salesperson_revenue)"
      ]
    }
  ],
  "metadata": {
    "colab": {
      "collapsed_sections": [],
      "provenance": []
    },
    "interpreter": {
      "hash": "c5914ae3790566b9cd0e984a9bdda42a29da8adf046b5ac0173e0d37aacf3dab"
    },
    "kernelspec": {
      "display_name": "Python 3.9.7",
      "language": "python",
      "name": "python3"
    },
    "language_info": {
      "codemirror_mode": {
        "name": "ipython",
        "version": 3
      },
      "file_extension": ".py",
      "mimetype": "text/x-python",
      "name": "python",
      "nbconvert_exporter": "python",
      "pygments_lexer": "ipython3",
      "version": "3.9.7"
    }
  },
  "nbformat": 4,
  "nbformat_minor": 0
}