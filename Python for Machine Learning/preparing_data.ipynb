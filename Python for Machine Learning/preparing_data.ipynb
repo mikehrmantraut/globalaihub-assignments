{
  "cells": [
    {
      "cell_type": "markdown",
      "metadata": {
        "id": "15177c1c"
      },
      "source": [
        "#Chapter 3: Data cleaning exercise\n",
        "\n",
        "### Sales department performance analysis\n",
        "\n",
        "The HR department wants to analyze the performance of the employees in the sales department.\n",
        "\n",
        "### Data Reading\n",
        "Rachel wrote a text file employee_revenue.txt including all necessary information, but she needs help to extract the necessary information.\n",
        "\n",
        "Start by uploading the employee_revenue file to the working directory.\n",
        "\n",
        "📌 Use the .read() method to open the text file in read mode and assign it to the variable \"data\".\n"
      ],
      "id": "15177c1c"
    },
    {
      "cell_type": "markdown",
      "source": [
        "# Yeni Bölüm"
      ],
      "metadata": {
        "id": "nJn2NG-o4eg4"
      },
      "id": "nJn2NG-o4eg4"
    },
    {
      "cell_type": "code",
      "execution_count": 85,
      "metadata": {
        "id": "da79a8da"
      },
      "outputs": [],
      "source": [
        "#Open the file in read mode\n",
        "file = open(\"/content/employee_revenue.txt\", \"r\")\n",
        "data = file.read()"
      ],
      "id": "da79a8da"
    },
    {
      "cell_type": "code",
      "execution_count": 86,
      "metadata": {
        "id": "75a5de52",
        "colab": {
          "base_uri": "https://localhost:8080/"
        },
        "outputId": "107ee487-2302-436f-d36c-3856eabe9989"
      },
      "outputs": [
        {
          "output_type": "stream",
          "name": "stdout",
          "text": [
            "  Ben made 300 calls and generated 2400 dollars last Month with an 8$ average deal size.  \n",
            "omer called 10 times and Sold 2 courses generated 60 dollars last month with a 6$ average deal size.\n",
            "   KAren called 500 people and achieved success by GETting 24$ average deal size, got 12000 dollars revenue.     \n",
            "Celine with 70 calls, made 2275 dollars and 32$ average deal size IN the previous month.  \n",
            "     Sue called 100 people and earned 500 Dollars in REvenue and an AVERAGE DEAL SIZE of 5$ Last month.\n",
            "Bora called 100 people generated 770 dollars last month, his average deal size was 25$.  \n",
            "Rose made 600 phone calls and GENERATING 4000 dollars a past month 25$ average deal SIZE. \n",
            "Ellen made 800 calls and generated 6000 dollars a prior mONTH and reached 40$ the average deal size. \n",
            " bob made 200 phone calls, helped to make a proGress and generated 800 dollars LAST MONTH and gaining 15$ average deal size.\n",
            "Taylor, with 450 calls generated 1200 dollars in revenue pASt month, and the average deal size was 10$. \n",
            "  JuDE made 80 calls and earned 500 dollars for the company last month, her average deal size was 12$.\n"
          ]
        }
      ],
      "source": [
        "#Print the data\n",
        "print(data)"
      ],
      "id": "75a5de52"
    },
    {
      "cell_type": "markdown",
      "metadata": {
        "id": "33d4f7ef"
      },
      "source": [
        "### Data Cleaning\n",
        "\n",
        "You can see that the data needs to be cleaned and information has to be extracted from these lines. \n",
        "\n",
        "To be able to clean the data, you need to separate the text into lines.\n",
        "\n",
        "📌 Use the .splitlines() method."
      ],
      "id": "33d4f7ef"
    },
    {
      "cell_type": "code",
      "execution_count": 87,
      "metadata": {
        "id": "9a1a651d",
        "colab": {
          "base_uri": "https://localhost:8080/"
        },
        "outputId": "a75300f2-3153-47c6-d80a-165b4fa26aa8"
      },
      "outputs": [
        {
          "output_type": "stream",
          "name": "stdout",
          "text": [
            "['  Ben made 300 calls and generated 2400 dollars last Month with an 8$ average deal size.  ', 'omer called 10 times and Sold 2 courses generated 60 dollars last month with a 6$ average deal size.', '   KAren called 500 people and achieved success by GETting 24$ average deal size, got 12000 dollars revenue.     ', 'Celine with 70 calls, made 2275 dollars and 32$ average deal size IN the previous month.  ', '     Sue called 100 people and earned 500 Dollars in REvenue and an AVERAGE DEAL SIZE of 5$ Last month.', 'Bora called 100 people generated 770 dollars last month, his average deal size was 25$.  ', 'Rose made 600 phone calls and GENERATING 4000 dollars a past month 25$ average deal SIZE. ', 'Ellen made 800 calls and generated 6000 dollars a prior mONTH and reached 40$ the average deal size. ', ' bob made 200 phone calls, helped to make a proGress and generated 800 dollars LAST MONTH and gaining 15$ average deal size.', 'Taylor, with 450 calls generated 1200 dollars in revenue pASt month, and the average deal size was 10$. ', '  JuDE made 80 calls and earned 500 dollars for the company last month, her average deal size was 12$.']\n"
          ]
        }
      ],
      "source": [
        "#Seperate the data into lines\n",
        "lines = data.splitlines()\n",
        "print(lines)"
      ],
      "id": "9a1a651d"
    },
    {
      "cell_type": "markdown",
      "metadata": {
        "id": "CKkeig2poz7w"
      },
      "source": [
        "### Clean the data line by line\n",
        "\n",
        "Start to clean the data for the first line.\n",
        "\n",
        "📌 Use the .strip() method to remove the whitespaces from the edges of the string."
      ],
      "id": "CKkeig2poz7w"
    },
    {
      "cell_type": "code",
      "execution_count": 88,
      "metadata": {
        "id": "2332622c",
        "colab": {
          "base_uri": "https://localhost:8080/"
        },
        "outputId": "c5dcd3f4-0ead-4764-fefc-2b8b8cd1c2d9"
      },
      "outputs": [
        {
          "output_type": "stream",
          "name": "stdout",
          "text": [
            "  Ben made 300 calls and generated 2400 dollars last Month with an 8$ average deal size.  \n"
          ]
        }
      ],
      "source": [
        "#Take the first line\n",
        "string = lines[0]\n",
        "print(string)"
      ],
      "id": "2332622c"
    },
    {
      "cell_type": "code",
      "execution_count": 89,
      "metadata": {
        "id": "26219c0d",
        "colab": {
          "base_uri": "https://localhost:8080/"
        },
        "outputId": "667bfacb-c641-40d1-eb1b-46bda0697736"
      },
      "outputs": [
        {
          "output_type": "stream",
          "name": "stdout",
          "text": [
            "Ben made 300 calls and generated 2400 dollars last Month with an 8$ average deal size.\n"
          ]
        }
      ],
      "source": [
        "#Remove the whitespaces from the edges\n",
        "string = string.strip(\" \")\n",
        "print(string)"
      ],
      "id": "26219c0d"
    },
    {
      "cell_type": "markdown",
      "metadata": {
        "id": "ed90bfc6"
      },
      "source": [
        "Next, you need to fix the capitalization issues.\n",
        "\n",
        "📌 Use the .lower() method to convert the text to lowercase.\n",
        "\n",
        "📌 Then use the .capitalize() method to capitalize the first letter."
      ],
      "id": "ed90bfc6"
    },
    {
      "cell_type": "code",
      "execution_count": 90,
      "metadata": {
        "id": "ef8bca74",
        "colab": {
          "base_uri": "https://localhost:8080/",
          "height": 36
        },
        "outputId": "3c577203-14f3-44b8-d254-2be53694e241"
      },
      "outputs": [
        {
          "output_type": "execute_result",
          "data": {
            "text/plain": [
              "'ben made 300 calls and generated 2400 dollars last month with an 8$ average deal size.'"
            ],
            "application/vnd.google.colaboratory.intrinsic+json": {
              "type": "string"
            }
          },
          "metadata": {},
          "execution_count": 90
        }
      ],
      "source": [
        "#Convert the string to lowercase\n",
        "string = string.lower()\n",
        "string"
      ],
      "id": "ef8bca74"
    },
    {
      "cell_type": "code",
      "execution_count": 91,
      "metadata": {
        "id": "d4be9443",
        "colab": {
          "base_uri": "https://localhost:8080/",
          "height": 36
        },
        "outputId": "ecbcb687-7437-4364-fe4f-898770fc1471"
      },
      "outputs": [
        {
          "output_type": "execute_result",
          "data": {
            "text/plain": [
              "'Ben made 300 calls and generated 2400 dollars last month with an 8$ average deal size.'"
            ],
            "application/vnd.google.colaboratory.intrinsic+json": {
              "type": "string"
            }
          },
          "metadata": {},
          "execution_count": 91
        }
      ],
      "source": [
        "#Capitalize the first character\n",
        "string = string.capitalize()\n",
        "string"
      ],
      "id": "d4be9443"
    },
    {
      "cell_type": "markdown",
      "metadata": {
        "id": "f89b01c4"
      },
      "source": [
        "### Information Extraction\n",
        "\n",
        "To extract the information, you need to split the sentence into words. \n",
        "\n",
        "📌 Use the .split() method.\n"
      ],
      "id": "f89b01c4"
    },
    {
      "cell_type": "code",
      "execution_count": 92,
      "metadata": {
        "id": "04ede2fd",
        "colab": {
          "base_uri": "https://localhost:8080/"
        },
        "outputId": "44e06c6d-bd44-40fa-df41-8d982922c92a"
      },
      "outputs": [
        {
          "output_type": "execute_result",
          "data": {
            "text/plain": [
              "['Ben',\n",
              " 'made',\n",
              " '300',\n",
              " 'calls',\n",
              " 'and',\n",
              " 'generated',\n",
              " '2400',\n",
              " 'dollars',\n",
              " 'last',\n",
              " 'month',\n",
              " 'with',\n",
              " 'an',\n",
              " '8$',\n",
              " 'average',\n",
              " 'deal',\n",
              " 'size.']"
            ]
          },
          "metadata": {},
          "execution_count": 92
        }
      ],
      "source": [
        "#Split the sentece into words\n",
        "split_string = string.split(\" \")\n",
        "split_string"
      ],
      "id": "04ede2fd"
    },
    {
      "cell_type": "markdown",
      "metadata": {
        "id": "9138eb5b"
      },
      "source": [
        "You might noticed that the first element in the list is the name and the third element is the number of calls.\n",
        "\n",
        "📌 Use the indeces to extract the name and number of calls."
      ],
      "id": "9138eb5b"
    },
    {
      "cell_type": "code",
      "execution_count": 93,
      "metadata": {
        "id": "897c59e5",
        "colab": {
          "base_uri": "https://localhost:8080/",
          "height": 36
        },
        "outputId": "24c28ef3-426c-419c-e108-3eeae44de0c8"
      },
      "outputs": [
        {
          "output_type": "execute_result",
          "data": {
            "text/plain": [
              "'Ben'"
            ],
            "application/vnd.google.colaboratory.intrinsic+json": {
              "type": "string"
            }
          },
          "metadata": {},
          "execution_count": 93
        }
      ],
      "source": [
        "#Use the index 0 to access the name element\n",
        "name = split_string[0]\n",
        "name"
      ],
      "id": "897c59e5"
    },
    {
      "cell_type": "code",
      "execution_count": 94,
      "metadata": {
        "id": "98103332",
        "colab": {
          "base_uri": "https://localhost:8080/",
          "height": 36
        },
        "outputId": "cdb96f86-0d50-4d03-8444-1ae767280cfa"
      },
      "outputs": [
        {
          "output_type": "execute_result",
          "data": {
            "text/plain": [
              "'300'"
            ],
            "application/vnd.google.colaboratory.intrinsic+json": {
              "type": "string"
            }
          },
          "metadata": {},
          "execution_count": 94
        }
      ],
      "source": [
        "#Use the index 2 to access the number of calls element\n",
        "call_number = split_string[2]\n",
        "call_number"
      ],
      "id": "98103332"
    },
    {
      "cell_type": "markdown",
      "metadata": {
        "id": "etif7Kb3tEUC"
      },
      "source": [
        "So far so good!\n",
        "\n",
        "But as you can see the sentence order is not the same after the 7th element.\n",
        "\n",
        "To extract the average deal size you need to come up with a different approach. You can use the \"$\" sign to find the corresponding element.\n",
        "\n",
        "📌 Loop over the list to find the element that includes the \"$\" sign.\n",
        "\n",
        "📌 Then, use the .split() method to divide the string into the number and the $ sign."
      ],
      "id": "etif7Kb3tEUC"
    },
    {
      "cell_type": "code",
      "execution_count": 95,
      "metadata": {
        "id": "443a9ddf",
        "colab": {
          "base_uri": "https://localhost:8080/"
        },
        "outputId": "b2e76e0a-a350-45bd-f4dc-b9eaea34e600"
      },
      "outputs": [
        {
          "output_type": "stream",
          "name": "stdout",
          "text": [
            "8\n"
          ]
        }
      ],
      "source": [
        "#Find the element with the \"$\" sign\n",
        "for i in split_string:\n",
        "  #Divide the number from it\n",
        "  if \"$\" in i:\n",
        "    average_deal_size = i.split(\"$\")[0]\n",
        "#Print the average deal size\n",
        "print(average_deal_size)"
      ],
      "id": "443a9ddf"
    },
    {
      "cell_type": "markdown",
      "metadata": {
        "id": "1332df7e"
      },
      "source": [
        "Similarly, we can use the string \"dollars\" to extract the revenue, which is the element right before \"dollars\".\n",
        "\n",
        "📌 Use the .index() method to identify the index for the \"dollars\" element.\n",
        "\n",
        "📌 Then, use this index to specify and extract the revenue."
      ],
      "id": "1332df7e"
    },
    {
      "cell_type": "code",
      "execution_count": 96,
      "metadata": {
        "id": "a00945b0",
        "colab": {
          "base_uri": "https://localhost:8080/"
        },
        "outputId": "17e4812d-7825-4c2f-bc23-ddc5de4ab640"
      },
      "outputs": [
        {
          "output_type": "execute_result",
          "data": {
            "text/plain": [
              "7"
            ]
          },
          "metadata": {},
          "execution_count": 96
        }
      ],
      "source": [
        "#Find the index of element \"dollars\"\n",
        "dollars_index = split_string.index(\"dollars\")\n",
        "dollars_index"
      ],
      "id": "a00945b0"
    },
    {
      "cell_type": "code",
      "execution_count": 97,
      "metadata": {
        "id": "c663bd03",
        "colab": {
          "base_uri": "https://localhost:8080/"
        },
        "outputId": "648dbf8c-9dcd-445c-cd13-cd940e94d5e5"
      },
      "outputs": [
        {
          "output_type": "execute_result",
          "data": {
            "text/plain": [
              "6"
            ]
          },
          "metadata": {},
          "execution_count": 97
        }
      ],
      "source": [
        "#Subtract one from the index to identify the index of the revenue element\n",
        "revenue_index = dollars_index - 1\n",
        "revenue_index"
      ],
      "id": "c663bd03"
    },
    {
      "cell_type": "code",
      "execution_count": 98,
      "metadata": {
        "id": "2831e072",
        "colab": {
          "base_uri": "https://localhost:8080/",
          "height": 36
        },
        "outputId": "109bfada-a083-4eff-fb98-85c9d6dc257d"
      },
      "outputs": [
        {
          "output_type": "execute_result",
          "data": {
            "text/plain": [
              "'2400'"
            ],
            "application/vnd.google.colaboratory.intrinsic+json": {
              "type": "string"
            }
          },
          "metadata": {},
          "execution_count": 98
        }
      ],
      "source": [
        "#Extract the revenue\n",
        "revenue = split_string[revenue_index]\n",
        "revenue"
      ],
      "id": "2831e072"
    },
    {
      "cell_type": "markdown",
      "metadata": {
        "id": "537ed4c2"
      },
      "source": [
        "Great! You extracted all necessary information.\n",
        "\n",
        "📌 Print the information and check the types of the data."
      ],
      "id": "537ed4c2"
    },
    {
      "cell_type": "code",
      "execution_count": 99,
      "metadata": {
        "id": "ace2c99f",
        "colab": {
          "base_uri": "https://localhost:8080/"
        },
        "outputId": "f9d03ece-5ea6-4965-f4e3-8468d37b02b1"
      },
      "outputs": [
        {
          "output_type": "stream",
          "name": "stdout",
          "text": [
            "Name type: <class 'str'>\n",
            "Number of calls type: <class 'str'>\n",
            "Average deal size type: <class 'str'>\n",
            "Revenue type: <class 'str'>\n"
          ]
        }
      ],
      "source": [
        "#Print out the extracted information\n",
        "print(\"Name type:\", type(name))\n",
        "print(\"Number of calls type:\", type(call_number))\n",
        "print(\"Average deal size type:\", type(average_deal_size))\n",
        "print(\"Revenue type:\", type(revenue))\n"
      ],
      "id": "ace2c99f"
    },
    {
      "cell_type": "code",
      "execution_count": 100,
      "metadata": {
        "id": "SwAyLOAInasY"
      },
      "outputs": [],
      "source": [
        "#Check the types\n",
        "average_deal_size = int(average_deal_size)\n",
        "call_number = int(call_number)\n",
        "revenue = int(revenue)"
      ],
      "id": "SwAyLOAInasY"
    },
    {
      "cell_type": "markdown",
      "metadata": {
        "id": "08f5b5fd"
      },
      "source": [
        "As you can see, we have the type string for all the data, but the average deal size, number of calls, and the revenue need to be integers. \n",
        "\n",
        "📌 Convert the data using the int() function and check again."
      ],
      "id": "08f5b5fd"
    },
    {
      "cell_type": "code",
      "execution_count": 101,
      "metadata": {
        "id": "5f42e3f0",
        "colab": {
          "base_uri": "https://localhost:8080/"
        },
        "outputId": "5bf24c7b-695c-40f2-a738-f8ad1173bb23"
      },
      "outputs": [
        {
          "output_type": "stream",
          "name": "stdout",
          "text": [
            "Name type: <class 'str'>\n",
            "Number of calls type: <class 'int'>\n",
            "Average deal size type: <class 'int'>\n",
            "Revenue type: <class 'int'>\n"
          ]
        }
      ],
      "source": [
        "#Convert the datatypes of average deal size, number of calls, and revenue\n",
        "print(\"Name type:\", type(name))\n",
        "print(\"Number of calls type:\", type(call_number))\n",
        "print(\"Average deal size type:\", type(average_deal_size))\n",
        "print(\"Revenue type:\", type(revenue))"
      ],
      "id": "5f42e3f0"
    },
    {
      "cell_type": "markdown",
      "metadata": {
        "id": "0b194713"
      },
      "source": [
        "Now, you need to apply all the methods and functions to the list that contains the different strings of all employees.\n",
        "\n",
        "📌 Create an empty lists for storing names, number of calls, average deal sizes, and revenues.\n",
        "\n",
        "📌 Use a for loop to iterate through the list with the whole data.\n",
        "\n",
        "📌 Print out the necessary information."
      ],
      "id": "0b194713"
    },
    {
      "cell_type": "code",
      "execution_count": 115,
      "metadata": {
        "id": "5a4aab7e"
      },
      "outputs": [],
      "source": [
        "#Create empty lists for the names, number of calls, average deal sizes, revenues\n",
        "names = []\n",
        "call_numbers = []\n",
        "average_deal_sizes = []\n",
        "revenues = []"
      ],
      "id": "5a4aab7e"
    },
    {
      "cell_type": "code",
      "execution_count": 119,
      "metadata": {
        "id": "2366069b",
        "colab": {
          "base_uri": "https://localhost:8080/"
        },
        "outputId": "9937d4dd-4f5a-4cbf-c4c9-32fb0e2f1b40"
      },
      "outputs": [
        {
          "output_type": "stream",
          "name": "stdout",
          "text": [
            "Names: ['Ben', 'Omer', 'Karen', 'Celine', 'Sue', 'Bora', 'Rose', 'Ellen', 'Bob', 'Taylor,', 'Jude', 'Ben', 'Omer', 'Karen', 'Celine', 'Sue', 'Bora', 'Rose', 'Ellen', 'Bob', 'Taylor,', 'Jude']\n",
            "Number of calls: [300, 10, 500, 70, 100, 100, 600, 800, 200, 450, 80, 300, 10, 500, 70, 100, 100, 600, 800, 200, 450, 80]\n",
            "Average deal sizes: [8, 6, 24, 32, 5, 25, 25, 40, 15, 10, 12, 8, 6, 24, 32, 5, 25, 25, 40, 15, 10, 12]\n",
            "Revenues: [2400, 60, 12000, 2275, 500, 770, 4000, 6000, 800, 1200, 500]\n"
          ]
        }
      ],
      "source": [
        "#Loop over the whole data\n",
        "for employee in lines:\n",
        "\n",
        "  #Clean the string\n",
        "  employee = employee.strip(\" \")\n",
        "  employee = employee.lower()\n",
        "  employee = employee.capitalize()\n",
        "  #Split the clean string\n",
        "  split_employee = employee.split()  \n",
        "    \n",
        "  #Extract the name\n",
        "  name = split_employee[0]\n",
        "  call_number = split_employee[2]  \n",
        "\n",
        "  #Extract the average deal size\n",
        "  for i in split_employee:\n",
        "    if \"$\" in i:\n",
        "      average_deal_size = i\n",
        "  average_deal_size = average_deal_size.split(\"$\")[0]\n",
        "\n",
        "  #Extract the revenue\n",
        "  dollars_index = split_employee.index(\"dollars\")\n",
        "  revenue_index = dollars_index - 1\n",
        "  revenue = split_employee[revenue_index]\n",
        "  #Convert to the correct data types\n",
        "  average_deal_size = int(average_deal_size)\n",
        "  call_number = int(call_number)\n",
        "  revenue = int(revenue)\n",
        "  #Append the information to the lists\n",
        "  names.append(name)\n",
        "  call_numbers.append(call_number)\n",
        "  average_deal_sizes.append(average_deal_size)\n",
        "  revenues.append(revenue)\n",
        "#Print out the information\n",
        "print(\"Names:\", names)\n",
        "print(\"Number of calls:\", call_numbers)\n",
        "print(\"Average deal sizes:\", average_deal_sizes)\n",
        "print(\"Revenues:\", revenues)\n"
      ],
      "id": "2366069b"
    },
    {
      "cell_type": "markdown",
      "metadata": {
        "id": "4d848787"
      },
      "source": [
        "Finally, you can make the process even easier and reusable by defining functions.\n",
        "\n",
        "📌 Define the function \"clean_extract\".\n",
        "\n",
        "📌 Use the retured values by assigning them to variables."
      ],
      "id": "4d848787"
    },
    {
      "cell_type": "code",
      "execution_count": 120,
      "metadata": {
        "id": "_ipfpGrirCs7"
      },
      "outputs": [],
      "source": [
        "#Create empty lists again\n",
        "names = []\n",
        "call_numbers = []\n",
        "average_deal_sizes = []\n",
        "revenues = []"
      ],
      "id": "_ipfpGrirCs7"
    },
    {
      "cell_type": "code",
      "execution_count": 128,
      "metadata": {
        "id": "tnFT5Fk2qu_x"
      },
      "outputs": [],
      "source": [
        "#Define a function to clean and extract the data\n",
        "def clean_extract(lines):\n",
        "  for employee in lines:\n",
        "    employee = employee.strip(\" \")\n",
        "    employee = employee.lower()\n",
        "    employee = employee.capitalize()\n",
        "\n",
        "    split_employee = employee.split(\" \")\n",
        "\n",
        "    name = split_employee[0]\n",
        "    call_number = split_employee[2]\n",
        "\n",
        "    for i in split_employee:\n",
        "      if \"$\" in i:\n",
        "        average_deal_size = i\n",
        "        average_deal_size = average_deal_size.split(\"$\")[0]\n",
        "\n",
        "    dollars_index = split_employee.index(\"dollars\")\n",
        "    revenue_index = dollars_index - 1\n",
        "    revenue = split_employee[revenue_index]\n",
        "\n",
        "    average_deal_size = int(average_deal_size)\n",
        "    call_number = int(call_number)\n",
        "    revenue = int(revenue)\n",
        "\n",
        "    names.append(name)\n",
        "    call_numbers.append(call_number)\n",
        "    average_deal_sizes.append(average_deal_size)\n",
        "    revenues.append(revenue)\n",
        "\n",
        "  return names, call_numbers, average_deal_sizes, revenues"
      ],
      "id": "tnFT5Fk2qu_x"
    },
    {
      "cell_type": "code",
      "execution_count": 129,
      "metadata": {
        "id": "13b0fe6b"
      },
      "outputs": [],
      "source": [
        "#Assign returned values to variables\n",
        "names, call_numbers, average_deal_sizes, revenues = clean_extract(lines)"
      ],
      "id": "13b0fe6b"
    },
    {
      "cell_type": "code",
      "execution_count": 130,
      "metadata": {
        "id": "44e38957",
        "colab": {
          "base_uri": "https://localhost:8080/"
        },
        "outputId": "66f74b1c-bafc-42df-cf39-09ce77886a83"
      },
      "outputs": [
        {
          "output_type": "stream",
          "name": "stdout",
          "text": [
            "Names: ['Ben', 'Omer', 'Karen', 'Celine', 'Sue', 'Bora', 'Rose', 'Ellen', 'Bob', 'Taylor,', 'Jude']\n",
            "Number of calls: [300, 10, 500, 70, 100, 100, 600, 800, 200, 450, 80]\n",
            "Average deal sizes: [8, 6, 24, 32, 5, 25, 25, 40, 15, 10, 12]\n",
            "Revenues: [2400, 60, 12000, 2275, 500, 770, 4000, 6000, 800, 1200, 500]\n"
          ]
        }
      ],
      "source": [
        "#Print out the information\n",
        "print(\"Names:\", names)\n",
        "print(\"Number of calls:\", call_numbers)\n",
        "print(\"Average deal sizes:\", average_deal_sizes)\n",
        "print(\"Revenues:\", revenues)"
      ],
      "id": "44e38957"
    },
    {
      "cell_type": "markdown",
      "metadata": {
        "id": "26efe652"
      },
      "source": [
        "### Performance Analysis Report\n",
        "\n",
        "Now that you cleaned the string and extracted all the information using the function, you can create performance analysis report for the last month.\n",
        "\n",
        "📌 Assign IDs to each employee.\n",
        "\n",
        "📌 Create dictionaries.\n",
        "\n",
        "📌 Sort the dictionaries.\n",
        "\n",
        "\n"
      ],
      "id": "26efe652"
    },
    {
      "cell_type": "markdown",
      "metadata": {
        "id": "ZT7mAK3M5k3W"
      },
      "source": [
        "First, check how many employees there are and assign the IDs.\n",
        "\n",
        "📌 Use the len() and range() function.\n"
      ],
      "id": "ZT7mAK3M5k3W"
    },
    {
      "cell_type": "code",
      "execution_count": 131,
      "metadata": {
        "id": "f20ff52f",
        "colab": {
          "base_uri": "https://localhost:8080/"
        },
        "outputId": "f0f2a7b1-b715-4d80-f700-6d91cfd19d35"
      },
      "outputs": [
        {
          "output_type": "stream",
          "name": "stdout",
          "text": [
            "11\n"
          ]
        }
      ],
      "source": [
        "#Check the number of employees\n",
        "print(len(names))"
      ],
      "id": "f20ff52f"
    },
    {
      "cell_type": "code",
      "execution_count": 132,
      "metadata": {
        "id": "5c62caf8",
        "colab": {
          "base_uri": "https://localhost:8080/"
        },
        "outputId": "347a2b83-ad86-4a09-98ee-f7beade220c1"
      },
      "outputs": [
        {
          "output_type": "stream",
          "name": "stdout",
          "text": [
            "[0, 1, 2, 3, 4, 5, 6, 7, 8, 9, 10]\n"
          ]
        }
      ],
      "source": [
        "#Generate IDs\n",
        "IDs = list(range(0, 11))\n",
        "print(IDs)"
      ],
      "id": "5c62caf8"
    },
    {
      "cell_type": "code",
      "execution_count": 133,
      "metadata": {
        "id": "28cd8ce6",
        "colab": {
          "base_uri": "https://localhost:8080/"
        },
        "outputId": "16e3cce2-ae2c-4f5a-f783-aef5c13ac46f"
      },
      "outputs": [
        {
          "output_type": "execute_result",
          "data": {
            "text/plain": [
              "11"
            ]
          },
          "metadata": {},
          "execution_count": 133
        }
      ],
      "source": [
        "#Check the number of IDs\n",
        "len(IDs)"
      ],
      "id": "28cd8ce6"
    },
    {
      "cell_type": "markdown",
      "metadata": {
        "id": "NKP6Yoto6eqP"
      },
      "source": [
        "With the IDs ready, you need to assign the IDs to the employees.\n",
        "\n",
        "📌 Use the zip() function to pair the employee with the ID.\n",
        "\n",
        "📌 Convert the zip object into a dictionary."
      ],
      "id": "NKP6Yoto6eqP"
    },
    {
      "cell_type": "code",
      "execution_count": 134,
      "metadata": {
        "id": "7e56a43f",
        "colab": {
          "base_uri": "https://localhost:8080/"
        },
        "outputId": "f548d5aa-96e6-4cbb-918a-23f4b6f410a6"
      },
      "outputs": [
        {
          "output_type": "execute_result",
          "data": {
            "text/plain": [
              "{0: 'Ben',\n",
              " 1: 'Omer',\n",
              " 2: 'Karen',\n",
              " 3: 'Celine',\n",
              " 4: 'Sue',\n",
              " 5: 'Bora',\n",
              " 6: 'Rose',\n",
              " 7: 'Ellen',\n",
              " 8: 'Bob',\n",
              " 9: 'Taylor,',\n",
              " 10: 'Jude'}"
            ]
          },
          "metadata": {},
          "execution_count": 134
        }
      ],
      "source": [
        "#Pair the names with the IDs in a dictionary\n",
        "dictionary1 = dict(zip(IDs, names))\n",
        "dictionary1"
      ],
      "id": "7e56a43f"
    },
    {
      "cell_type": "markdown",
      "metadata": {
        "id": "429d7b7f"
      },
      "source": [
        "Similarly, create a dictionary for the  employees and their revenues."
      ],
      "id": "429d7b7f"
    },
    {
      "cell_type": "code",
      "execution_count": 138,
      "metadata": {
        "id": "aa2c6560",
        "colab": {
          "base_uri": "https://localhost:8080/"
        },
        "outputId": "d581e672-67ae-4e85-c8d6-956d53c64a06"
      },
      "outputs": [
        {
          "output_type": "execute_result",
          "data": {
            "text/plain": [
              "{2400: 'Ben',\n",
              " 60: 'Omer',\n",
              " 12000: 'Karen',\n",
              " 2275: 'Celine',\n",
              " 500: 'Jude',\n",
              " 770: 'Bora',\n",
              " 4000: 'Rose',\n",
              " 6000: 'Ellen',\n",
              " 800: 'Bob',\n",
              " 1200: 'Taylor,'}"
            ]
          },
          "metadata": {},
          "execution_count": 138
        }
      ],
      "source": [
        "#Pair the names with the revenues\n",
        "dictionary2 = dict(zip(revenues, names))\n",
        "dictionary2\n"
      ],
      "id": "aa2c6560"
    },
    {
      "cell_type": "markdown",
      "metadata": {
        "id": "Ou3ne5Vn76N_"
      },
      "source": [
        "Finally, you need to find the employees with the best and lowest performance.\n",
        "\n",
        "📌 Sort the dictionary using the sorted() function in ascending and descending order.\n"
      ],
      "id": "Ou3ne5Vn76N_"
    },
    {
      "cell_type": "code",
      "execution_count": 140,
      "metadata": {
        "id": "d348a929",
        "colab": {
          "base_uri": "https://localhost:8080/"
        },
        "outputId": "d8952bc5-363c-41a4-a2bc-6f808277677b"
      },
      "outputs": [
        {
          "output_type": "stream",
          "name": "stdout",
          "text": [
            "Omer\n",
            "Jude\n",
            "Bora\n"
          ]
        }
      ],
      "source": [
        "#Find the lowest performing employees (ascending order)\n",
        "ascending_dictionary = sorted(dictionary2)[0:3]\n",
        "for i in ascending_dictionary:\n",
        "  print(dictionary2[i])"
      ],
      "id": "d348a929"
    },
    {
      "cell_type": "code",
      "source": [
        "#Find the best performing employees (descending order)\n",
        "descending_dictionary = sorted(dictionary2, reverse=True)[0:3]\n",
        "for i in descending_dictionary:\n",
        "  print(dictionary2[i])"
      ],
      "metadata": {
        "colab": {
          "base_uri": "https://localhost:8080/"
        },
        "id": "QAxyGpnBEa7x",
        "outputId": "13d02b38-662d-44b3-af63-c97ad3204e5a"
      },
      "id": "QAxyGpnBEa7x",
      "execution_count": 142,
      "outputs": [
        {
          "output_type": "stream",
          "name": "stdout",
          "text": [
            "Karen\n",
            "Ellen\n",
            "Rose\n"
          ]
        }
      ]
    }
  ],
  "metadata": {
    "colab": {
      "collapsed_sections": [],
      "provenance": []
    },
    "kernelspec": {
      "display_name": "Python 3",
      "language": "python",
      "name": "python3"
    },
    "language_info": {
      "codemirror_mode": {
        "name": "ipython",
        "version": 3
      },
      "file_extension": ".py",
      "mimetype": "text/x-python",
      "name": "python",
      "nbconvert_exporter": "python",
      "pygments_lexer": "ipython3",
      "version": "3.8.8"
    }
  },
  "nbformat": 4,
  "nbformat_minor": 5
}